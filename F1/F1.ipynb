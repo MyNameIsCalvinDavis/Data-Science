{
 "cells": [
  {
   "cell_type": "code",
   "execution_count": 4,
   "id": "07023a8a-db10-4237-bf79-72d39791849e",
   "metadata": {},
   "outputs": [],
   "source": [
    "#Set your Imports\n",
    "import os\n",
    "import sys\n",
    "import pandas as pd\n",
    "import warnings\n",
    "warnings.filterwarnings('ignore')\n",
    "import matplotlib.pyplot as plt\n",
    "import matplotlib.gridspec as gridspec\n",
    "import numpy as np\n",
    "import seaborn as sns\n",
    "import matplotlib.transforms as mtrans\n",
    "\n",
    "pd.set_option('display.float_format', lambda x: '%.4f' % x)\n",
    "\n",
    "# Add the project root to sys.path\n",
    "notebook_dir = os.path.dirname(os.path.abspath('F1.ipynb'))\n",
    "project_root = os.path.abspath(os.path.join(notebook_dir, '..'))\n",
    "if project_root not in sys.path:\n",
    "    sys.path.append(notebook_dir)\n",
    "\n",
    "races_dir = \"races_2024/\"\n",
    "sing_qual_dir = \"singapore_grand_prix_qualifyings_2018-2019-2022-2023/\"\n",
    "sing_races_dir = \"singapore_grand_prix_races_2018-2019-2022-2023/\""
   ]
  },
  {
   "cell_type": "code",
   "execution_count": 1,
   "id": "889236ca-3b1b-4d1f-b1b7-9dc0e9f2e816",
   "metadata": {},
   "outputs": [],
   "source": []
  },
  {
   "cell_type": "code",
   "execution_count": null,
   "id": "ba91812b-68e1-495a-a476-7e477aec4b28",
   "metadata": {},
   "outputs": [],
   "source": []
  }
 ],
 "metadata": {
  "kernelspec": {
   "display_name": "Python 3 (ipykernel)",
   "language": "python",
   "name": "python3"
  },
  "language_info": {
   "codemirror_mode": {
    "name": "ipython",
    "version": 3
   },
   "file_extension": ".py",
   "mimetype": "text/x-python",
   "name": "python",
   "nbconvert_exporter": "python",
   "pygments_lexer": "ipython3",
   "version": "3.9.7"
  }
 },
 "nbformat": 4,
 "nbformat_minor": 5
}
