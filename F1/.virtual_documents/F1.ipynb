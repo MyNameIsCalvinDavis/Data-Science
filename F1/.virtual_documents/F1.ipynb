





# plt.rcParams.keys()


#Set your Imports
import os
import sys
import pandas as pd
import warnings
warnings.filterwarnings('ignore')
import matplotlib.pyplot as plt
import matplotlib.gridspec as gridspec
import numpy as np
import seaborn as sns
from seaborn import objects as so
import matplotlib.transforms as mtrans
from summary import summary_summary
import datetime

pd.set_option('display.float_format', lambda x: '%.4f' % x)

sns.set_theme(palette="gist_ncar")
# so.Plot.config.theme.update(palette="CMRmap")

# Add the project root to sys.path
notebook_dir = os.path.dirname(os.path.abspath('F1.ipynb'))
project_root = os.path.abspath(os.path.join(notebook_dir, '..'))
if project_root not in sys.path:
    sys.path.append(notebook_dir)

races_dir = "races_2024/"
sing_qual_dir = "singapore_grand_prix_qualifyings_2018-2019-2022-2023/"
sing_races_dir = "singapore_grand_prix_races_2018-2019-2022-2023/"


skip = ["position_2O24.csv", "circuit_2024.csv"]

races = []
sing_qual = []
sing_races = []

# with os.scandir(notebook_dir + "/" + races_dir) as it:
#     for entry in it:
#         if entry.name.endswith(".csv") and entry.is_file():
#             if entry.name in skip:
#                 races.append((None, None))
#                 continue
#             print(entry.name, entry.path)
#             races.append((entry.name, pd.read_csv(entry.path)))

# with os.scandir(notebook_dir + "/" + sing_qual_dir) as it:
#     for entry in it:
#         if entry.name.endswith(".csv") and entry.is_file():
#             if entry.name in skip: continue
#             print(entry.name, entry.path)
#             sing_qual.append((entry.name, pd.read_csv(entry.path)))

# with os.scandir(notebook_dir + "/" + sing_races_dir) as it:
#     for entry in it:
#         if entry.name.endswith(".csv") and entry.is_file():
#             if entry.name in skip: continue
#             print(entry.name, entry.path)
#             sing_races.append((entry.name, pd.read_csv(entry.path)))


# for l in [races, sing_qual, sing_races]:
#     for idx, df in enumerate(l):
#         print()
#         print("**" + df[0] + "**", idx, "\\")
#         print(' -- '.join(df[1].columns))


# races[1][1].iloc[50000:50020]
# races[6][1].head(20)
# races[8][1][races[8][1]["Driver"] == "VER"].iloc[0]














weather_raw = pd.read_csv("races_2024/weather_2024.csv")
#positions_raw = pd.read_csv("races_2024/position_2O24.csv")
control_msg_raw = pd.read_csv("races_2024/control_message_2024.csv")
results_raw = pd.read_csv("races_2024/result_2024.csv")
#circuits_raw = pd.read_csv("races_2024/circuit_2024.csv")
car_data_raw = pd.read_csv("races_2024/car_data_2024.csv")
session_status_raw = pd.read_csv("races_2024/session_status_2024.csv")
track_status_raw = pd.read_csv("races_2024/track_status_2024.csv")
laps_raw = pd.read_csv("races_2024/lap_2024.csv")











def parse_laptime_ymdhms(series): # Str-printable format
    assert type(series) == type(pd.Series())
    series = series.copy().astype(str)
    result = []
    # 1900-01-01 00:41:18.944000000
    for item in series:
        item = str(item)
        if item == "nan":
            result.append(np.nan)
        else:
            item = item.split(" ")[1].split(".")
            item[0] = item[0][3:]
            item[1] = item[1][:4]
            item = '.'.join(item)
            
            result.append(item)
    return result

def convert_days_format_to_datetime(series, convert=True):
    # series = series.copy()
    # series = series.astype(str)
    assert type(series) == type(pd.Series())
    times = []
    cp = series.copy().astype(str)
    for t in cp:
        if len(t) > 4:
            # 0 Days HHMMSS.XX
            a = t.split(" ")[2]
            if "." not in a:
                a += ".000000"
            times.append(a)
        else:
            times.append(np.nan)
    if convert: cp = pd.to_datetime(times, format='%H:%M:%S.%f')
    else: cp = times
    return cp


laps_raw["LapTimeDt"] = convert_days_format_to_datetime(laps_raw["LapTime"])
laps_raw["Sec"] = (laps_raw['LapTimeDt'].dt.minute * 60) + laps_raw["LapTimeDt"].dt.second + (laps_raw["LapTimeDt"].dt.microsecond / 1000000)


summary_summary(laps_raw)


# Laps
laps_raw["Stint"] = laps_raw["Stint"].astype(int)






laps_raw.head()














pits = pd.merge(laps_raw, results_raw, left_on=["EventName", "Driver"], right_on=["EventName", "Abbreviation"]) \
    [["EventName", "Time_x", "Driver", "LapTime", "LapNumber", "Stint", "PitOutTime", "PitInTime", "ClassifiedPosition", "Team"]].reset_index().drop(columns=["index", "Time_x"])

pits.at[4180, "LapTime"] = "0" # Charles Le Clerc Chinese GP missing data

# Saudi grand prix all laps 8/9 missing lap times for some reason
temp = pits[pits["EventName"] == "Saudi Arabian Grand Prix"][pits["LapTime"].isna()].copy()
temp["LapTime"] = "0 days 00:02:02.919000" # Giving everyone an average lap time for laps 8/9
pits = pd.merge(left=pits, right=temp, how="left", on=["EventName", "Driver", "LapNumber", "Stint", "ClassifiedPosition", "Team"])
pits["LapTime_x"] = pits[pits["EventName"] == "Saudi Arabian Grand Prix"][pits["Driver"] == "VER"]["LapTime_y"].combine_first(pits["LapTime_x"])
pits = pits.rename(columns={"LapTime_x":"LapTime", "PitOutTime_x":"PitOutTime", "PitInTime_x":"PitInTime"}).drop(columns=["PitOutTime_y", "PitInTime_y", "LapTime_y"])

pits.head(40)



# pits = pits[pits["Stint"] > 1]
pit_stops = pits[(pits["PitInTime"].notna()) | (pits["PitOutTime"].notna())][["EventName", "Driver", "PitOutTime", "ClassifiedPosition"]]
pit_stops = pit_stops.dropna().drop(columns=["PitOutTime"]).groupby(["EventName", "Driver"]).count().reset_index().drop_duplicates()
# #pits[pits["Driver"] == "HAM"][(pits["PitInTime"].notna()) | (pits["PitOutTime"].notna())]
pit_stops = pit_stops.rename(columns={"ClassifiedPosition":"PitStops"})
pit_stops


# # 
# pits[pits["EventName"] == "Saudi Arabian Grand Prix"][pits["Driver"] == "VER"]








# Here's an example of VER DNF on this particular race - ClassifiedPosition = "R"
# results_raw[results_raw["EventName"] == "Australian Grand Prix"].tail(5)


# PitInTime / PitOutTime != Null
# laps_raw[laps_raw["Driver"] == "VER"][(laps_raw["PitInTime"].notna()) | (laps_raw["PitOutTime"].notna())] \
    # [["Time", "EventName", "Driver", "Team", "LapTime", "LapNumber", "Stint", "PitInTime", "PitOutTime", "Compound"]].sort_values(["EventName", "Time"]).head(30)


# Slice of some laps before and after a pit stop
# laps_raw.iloc[11464:11474][["Time", "EventName", "Driver", "Team", "LapTime", "LapNumber", "Stint", "PitInTime", "PitOutTime", "Compound"]].sort_values(["EventName", "Time"])


laps_raw.iloc[11478:11487][["Time", "EventName", "Driver", "Team", "LapTime", "LapNumber", "Stint", "PitInTime", "PitOutTime", "Compound"]].sort_values(["EventName", "Time"])


laps_raw.iloc[9]








laps_raw.iloc[0]








# Driver compound usage count
laps = laps_raw[["Time", "EventName", "Driver", "Team", "LapNumber", "Stint", "Compound"]]
lapsg = laps.groupby(["EventName", "Compound"]).count().reset_index()[["EventName", "Compound", "Time"]]
lapsg.head(10)#.rename(columns={"Time":"Count"})[["Driver", "Compound", "Count"]]


# Driver total compound usage on each stint
# Number of laps in a stint broken down by compound usage
lapsgg = laps.groupby(["Driver", "Stint", "Compound"]).count().reset_index()
lapsgg[lapsgg["Driver"] == "VER"].rename(columns={"Time":"Count"})[["Driver", "Stint", "Compound", "Count"]]











laps = laps_raw[["Time", "EventName", "Driver", "Team", "LapNumber", "LapTime", "Stint", "Compound"]]

laps["LapTime"] = convert_days_format_to_datetime(laps["LapTime"])

# Average laps per stint
laps[["Stint", "LapNumber"]].groupby(["Stint"]).mean()


laps_raw[["Sec"]]


# British Grand Prix / Belgian Grand Prix / Austrian Grand Prix
lapsg = laps[laps["EventName"] == "British Grand Prix"][["Driver", "Stint", "LapTime"]].groupby(["Driver", "Stint"]).mean().reset_index()
# lapsg = lapsg[lapsg["Driver"] == "VER"]
lapsg["Sec"] = (lapsg['LapTime'].dt.minute * 60) + lapsg["LapTime"].dt.second + (lapsg["LapTime"].dt.microsecond / 1000000)
# lapsg.style.format({"LapTime": lambda t: t.strftime("%H:%M:%S.%f")})
# lapsg[lapsg["Driver"] == "VER"]
lapsg = lapsg[["Driver", "Stint", "Sec"]]
# lapsg.head(20)

# Graph the data
fig = plt.figure(figsize=(15,6))
gs = gridspec.GridSpec(1,1)
ax = fig.add_subplot(gs[0,0])
ax.set_title("Lap Time Averages Over Time")

# lapsg = lapsg[~lapsg["Driver"].isin(["LEC", "HUL", "MAG", "OCO", "PER"])]
# lapsg = lapsg[lapsg["Stint"] >= 2]

sns.lineplot(data=lapsg, x="Stint", y="Sec", ax=ax)


# # Average Lap Times of Stints, Per Compound
# # Delta time per tire compound between stints
# # lapsg = laps[laps["Driver"] != "VER"]
# # lapsg.style.format({"LapTime": lambda t: t.strftime("%H:%M:%S.%f")})
# # lapsg["LapTime"] = pd.to_datetime(lapsg['LapTime'].astype(str), format='%H:%M:%S.%f')

# lapsg = laps[["Compound", "Stint", "LapTime"]].groupby(["Compound", "Stint"]).mean()
# # lapsg["LapTime"] = parse_laptime_ymdhms(lapsg["LapTime"])
# print(lapsg.reset_index())

# # Also need to do one within a single stint
# # Also need to do this per driver and merge it on the base dataframe per driver


# lapsg = laps[["Driver", "Stint", "LapTime"]].groupby(["Driver", "Stint"]).mean().reset_index().head(20)
# lapsg#.style.format({"LapTime": lambda t: t.strftime("%H:%M:%S.%f")})
# lapsg["LapTime"] = parse_laptime_ymdhms(lapsg["LapTime"])
# # lapsg.set_index("Driver")


# lapsg = laps[["Driver", "LapTime"]].groupby(["Driver"]).mean().reset_index().head(20)
# lapsg["LapTime"] = parse_laptime_ymdhms(lapsg["LapTime"])
# lapsg = lapsg.set_index("Driver")
# lapsg





# aa = pits[(pits["PitInTime"].notna()) | (pits["PitOutTime"].notna())][["EventName", "Driver", "PitInTime", "PitOutTime", "ClassifiedPosition"]]
# aa[aa["EventName"] == "Emilia Romagna Grand Prix"]





# # Cells have alternating rows of InTime / OutTime, where the alternate is NaN in both cases.
# # We want to combine them into one row to eventually calculate delta times.
# import math
# # pits = pits[~pits["ClassifiedPosition"].isin(["R", "DQ", "D"])]

# pit_times = pits[(pits["PitInTime"].notna()) | (pits["PitOutTime"].notna())][["EventName", "Driver", "PitInTime", "PitOutTime", "ClassifiedPosition"]]

# # Combining rows has proven to be a real pain in the ass so we're doing it manually

# pit_times = pit_times.reset_index().drop(columns=["index"])
# pit_times = pit_times[~pit_times["ClassifiedPosition"].isin(["R", "D", "DQ"])]
# pit_times = pit_times.sort_values(["EventName", "Driver"])

# for idx in range(pit_times.shape[0]):
#     if idx % 2 == 0:
#         try:
#             # print(idx, "POT:", pit_times.iloc[idx]["PitOutTime"], "=", idx+1, pit_times.iloc[idx+1]["PitOutTime"], "(", pit_times.iloc[idx]["Driver"], \
#                           # pit_times.iloc[idx+1]["Driver"], pit_times.iloc[idx]["EventName"], ")")
#             pit_times.iloc[idx]["PitOutTime"] = pit_times.iloc[idx+1]["PitOutTime"]
#         except Exception as e:
#             print("Error here")
#             j += 1
#             continue
#     else: j += 1

# pit_times[pit_times["EventName"] == "Miami Grand Prix"][pit_times["Driver"] == "LEC"]
# # pit_times["PitTime"] = pit_times["PitOutTime"] - pit_times["PitInTime"]

# # I don't know how time conversion works so I'm just shooting from the hip
# # # trying to get it into a format that's not horrible to work with


# times = []
# for t in pit_times["PitInTime"]:
#     if type(t) != type("s"):
#         times.append(0)
#         continue
#     # print(t)
#     s = t.split(" ")[2].split(".")
#     hrmnsec = s[0]
#     ms = s[1]
#     hr = hrmnsec.split(":")[0]
#     mn = hrmnsec.split(":")[1]
#     sc = hrmnsec.split(":")[2]
#     times.append( (int(hr)*60*60) + (int(mn)*60) + (int(sc)) + (int(ms)/1000000) )
# # pit_times["PitInTime"] = (pit_times['PitInTime'].dt.minute * 60) + lapsg["LapTime"].dt.second + (lapsg["LapTime"].dt.microsecond / 1000000)
# pit_times["PitInTime"] = times

# times = []
# for t in pit_times["PitOutTime"]:
#     if type(t) != type("s"):
#         times.append(0)
#         continue
#     s = t.split(" ")[2].split(".")
#     hrmnsec = s[0]
#     ms = s[1]
#     hr = hrmnsec.split(":")[0]
#     mn = hrmnsec.split(":")[1]
#     sc = hrmnsec.split(":")[2]
#     times.append( (int(hr)*60*60) + (int(mn)*60) + (int(sc)) + (int(ms)/1000000) )

# # pit_times["PitInTime"] = (pit_times['PitInTime'].dt.minute * 60) + lapsg["LapTime"].dt.second + (lapsg["LapTime"].dt.microsecond / 1000000)
# pit_times["PitOutTime"] = times
# # Convert both of those columns from the string format to a datetime
# pit_times["PitTime"] = pit_times["PitOutTime"] - pit_times["PitInTime"]
# # pit_times["PitOutTime"] = pit_times["PitOutTime"]#.dt.strftime('%H:%M:%S.%f').str[:-3]
# # pit_times["PitInTime"] = pit_times["PitInTime"]#.dt.strftime('%H:%M:%S.%f').str[:-3]
# pit_times = pit_times[pit_times["PitTime"] < 1000]
# pit_times = pit_times[pit_times["PitTime"] > -1000]
# # pit_times = pit_times[(pit_times["PitOutTime"].astype > 0) & (pit_times["PitInTime"]) > 0]
# # pits[pits["EventName"] == "Japanese Grand Prix"][pits["Driver"] == "VER"]
# pit_times[pit_times["EventName"] == "Emilia Romagna Grand Prix"]





## Redo

pit_times = pits[(pits["PitInTime"].notna()) | (pits["PitOutTime"].notna())][["EventName", "Driver", "PitInTime", "PitOutTime", "ClassifiedPosition"]]

# Combining rows has proven to be a real pain in the ass so we're doing it manually
# list(pit_times["Driver"])
# pit_times = pit_times.reset_index().drop(columns=["index"])
# pit_times = pit_times[~pit_times["ClassifiedPosition"].isin(["R", "D", "DQ"])]
pt_agg = pd.DataFrame()
flag = 0
t1 = 0
t2 = 0
for event in pit_times["EventName"].unique():
    for driver in pit_times[pit_times["EventName"] == event]["Driver"].unique():
        t_df = pit_times[pit_times["EventName"] == event][pit_times["Driver"] == driver]
        combos = {
            "EventName":[],
            "Driver":[],
            "PitInTime":[],
            "PitOutTime":[],
            "ClassifiedPosition":[]
        }
        for row in t_df.iterrows():
            idx = row[0]
            row = row[1]
            if type(row["PitInTime"]) != type(1.2):
                flag = 1
                t1 = row["PitInTime"]
            else:
                if flag:
                    flag = 0
                    t2 = row["PitOutTime"]
                    combos["EventName"].append(event)
                    combos["Driver"].append(driver)
                    combos["PitInTime"].append(t1)
                    combos["PitOutTime"].append(t2)
                    combos["ClassifiedPosition"].append(row["ClassifiedPosition"])
                # s = t.split(" ")[2].split(".")
                # hrmnsec = s[0]
                # ms = s[1]
                # hr = hrmnsec.split(":")[0]
                # mn = hrmnsec.split(":")[1]
                # sc = hrmnsec.split(":")[2]
                # times.append( (int(hr)*60*60) + (int(mn)*60) + (int(sc)) + (int(ms)/1000000) )
        e_dr_tm = pd.DataFrame(combos)
        pt_agg = pd.concat([pt_agg, e_dr_tm])

times = []
for t in pt_agg["PitInTime"]:
    if type(t) != type("s"):
        times.append(0)
        continue
    # print(t)
    s = t.split(" ")[2].split(".")
    hrmnsec = s[0]
    ms = s[1]
    hr = hrmnsec.split(":")[0]
    mn = hrmnsec.split(":")[1]
    sc = hrmnsec.split(":")[2]
    times.append( (int(hr)*60*60) + (int(mn)*60) + (int(sc)) + (int(ms)/1000000) )
# pit_times["PitInTime"] = (pit_times['PitInTime'].dt.minute * 60) + lapsg["LapTime"].dt.second + (lapsg["LapTime"].dt.microsecond / 1000000)
pt_agg["PitInTime"] = times

times = []
for t in pt_agg["PitOutTime"]:
    if type(t) != type("s"):
        times.append(0)
        continue
    s = t.split(" ")[2].split(".")
    hrmnsec = s[0]
    try:
        ms = s[1]
    except:
        ms = "0"
    hr = hrmnsec.split(":")[0]
    mn = hrmnsec.split(":")[1]
    sc = hrmnsec.split(":")[2]
    times.append( (int(hr)*60*60) + (int(mn)*60) + (int(sc)) + (int(ms)/1000000) )
pt_agg["PitOutTime"] = times

pt_agg["PitTime"] = pt_agg["PitOutTime"].astype(float) - pt_agg["PitInTime"].astype(float)
pt_agg["ClassifiedPosition"] = pt_agg["ClassifiedPosition"].replace("D", "99").replace("R", "99").astype(int)
pit_times = pt_agg


aa = pits[(pits["PitInTime"].notna()) | (pits["PitOutTime"].notna())][["EventName", "Driver", "PitInTime", "PitOutTime", "ClassifiedPosition"]]

pits[pits["EventName"] == "Saudi Arabian Grand Prix"][pits["Driver"] == "VER"]








# # Summary
# # Teams: XYZ
# # British Grand Prix / Belgian Grand Prix / Austrian Grand Prix

# # race = "Belgian Grand Prix"
# # team_rep = ' -- '.join(laps_raw[laps_raw["EventName"] == race].sort_values("Team")["Team"].unique())
# # print(team_rep)

# # # Drivers: XYZ
# # driver_rep = ' -- '.join(laps_raw[laps_raw["EventName"] == race].sort_values("Driver")["Driver"].unique())
# # print(driver_rep)

# # TOTALS
# # Pit Stops
# race = "Austrian Grand Prix"
# print("Pit Stops:  ", pit_stops[pit_stops["EventName"] == race][["PitStops"]].sum().iloc[0])
# # Pit Time
# print("Pit Time:  ", str(pit_times[pit_times["EventName"] == race]["PitTime"].sum())[7:-3])
# print("Laps Completed:", laps_raw.groupby(["EventName", "Driver"]).last().reset_index()[["EventName", "Driver", "LapNumber"]]["LapNumber"].sum())
# lapsg = laps_raw[laps_raw["EventName"] == race].groupby(["EventName", "Compound"]).count().reset_index()[["Compound", "Time"]]
# # lapsg = lapsg.set_index("Compound")
# print("Compound Usage:\n", lapsg.to_string(header=False, index=False))
# # Total lap time
# laps = laps_raw[laps_raw["EventName"] == race]
# laps = laps.groupby("EventName").sum()
# laps["LapTime"] = datetime.timedelta(seconds=laps["Sec"].iloc[0]) 
# laps = laps[["LapTime"]]
# print("Lap Time:", laps.to_string(header=False, index=False))

# # Lap time per stint
# laps = laps_raw[["EventName", "LapTime", "Stint", "Sec"]][laps_raw["EventName"] == race]
# laps = laps.groupby(["EventName", "Stint"]).sum().reset_index()[["Stint", "Sec"]]
# tot_sec = laps["Sec"].sum()
# laps["Pct"] = (laps["Sec"] / tot_sec * 100).astype(str).str[:5] + "%"
# for idx, item in enumerate(laps["Sec"]):
#     laps["Sec"].iloc[idx] = str(datetime.timedelta(seconds=item))[:-3]
#     laps["Sec"].iloc[idx] = laps["Sec"].iloc[idx].zfill(12)
# print("Time Per Stint:\n", laps.to_string(index=False, header=False))

# # Total Lap Times of Stints, Per Compound
# laps = laps_raw[laps_raw["EventName"] == race]
# laps = laps.groupby(["Compound", "Stint"]).sum().reset_index()[["Compound", "Stint", "Sec"]]
# for idx, item in enumerate(laps["Sec"]):
#     laps["Sec"].iloc[idx] = str(datetime.timedelta(seconds=item))[:-3].zfill(12)
# print("Time Per Stint, Per Compound:\n", laps.to_string(index=False, header=False))









# # AVERAGES
# print("\n================\n\nPit Stops:", pit_stops[pit_stops["EventName"] == race][["PitStops"]].mean().iloc[0])
# print("Pit Time:", str(pit_times[pit_times["EventName"] == race]["PitTime"].mean())[7:-6])
# print("Laps Completed:", laps_raw.groupby(["EventName", "Driver"]).last().reset_index()[["EventName", "Driver", "LapNumber"]]["LapNumber"].mean())
# lapsg = laps_raw[laps_raw["EventName"] == race].groupby(["Driver", "Compound"]).count().reset_index().groupby("Compound").mean().reset_index()[["Compound", "Time"]]

# # Graph bar chart
# print("Compound Usage:\n", lapsg.to_string(header=False, index=False))
# laps = laps_raw[["EventName", "Driver", "LapTimeDt"]].groupby(["EventName"]).mean().reset_index().sort_values("EventName")
# laps = laps[laps["EventName"] == race]
# laps["LapTime"] = parse_laptime_ymdhms(laps["LapTimeDt"])
# laps = laps.drop(columns=["LapTimeDt", "EventName"])
# # Avg lap time
# print("Lap Time:", laps.to_string(index=False, header=False))

# # Lap Time Per Stint
# # Graph
# laps = laps_raw[["EventName", "LapTime", "Stint", "Sec"]][laps_raw["EventName"] == race]
# laps = laps.groupby(["EventName", "Stint"]).mean().reset_index()[["Stint", "Sec"]]
# for idx, item in enumerate(laps["Sec"]):
#     laps["Sec"].iloc[idx] = str(datetime.timedelta(seconds=item))[:-3]
#     laps["Sec"].iloc[idx] = laps["Sec"].iloc[idx].zfill(12)
# print("Time Per Stint:\n", laps.to_string(index=False, header=False))

# # Average Lap Times of Stints, Per Compound
# # Graph 3var bar chart
# laps = laps_raw[laps_raw["EventName"] == race]
# laps["LapTime"] = convert_days_format_to_datetime(laps["LapTime"])
# laps = laps[["LapTime", "Stint", "Compound"]].groupby(["Compound", "Stint"]).mean().reset_index()
# laps["LapTime"] = parse_laptime_ymdhms(laps["LapTime"])
# print("Lap Time Of Stints Per Compound:\n", laps.to_string(header=False, index=False))

# # Graph of Lap Averages over time for this race
# lapsg = laps_raw[laps_raw["EventName"] == race][["Driver", "Stint", "LapTime", "Sec"]].groupby(["Driver", "Stint"]).mean().reset_index()

# fig = plt.figure(figsize=(15,6))
# gs = gridspec.GridSpec(1,1)
# ax = fig.add_subplot(gs[0,0])
# ax.set_title("Lap Time Averages Over Time")

# sns.lineplot(data=lapsg, x="Stint", y="Sec", ax=ax)





# # Placement for the race






# # Pit Stops
# # Per Team
# # Bar Graph

# # Per Driver
# # Bar Graph

# # Pit Time
# # Per Team
# # Bar Graph

# # Per Driver
# # Bar Graph

# # Laps Completed on each Tire Compound
# # Per Team
# # Red bull 	xxxxYYYYYYzzzzz 523
# # Team2	xxYYYYYzzzzzzzz 450

# # Per Driver
# # Driver1 xxxxxYYYYzzzz 89
# # Driver2 xxxYYYYYzzzzz 89

# # Average Lap Time Per Stint
# # Per Team
# #          	1         	2       	3       	4
# # Team
# # Team
# # Team
# # Team

# # Per Driver
# #          	1         	2       	3       	4
# # Team
# # Team
# # Team
# # Team





"""
Observation: Lap times increase/decrease

"""














lapsgg = laps_raw.groupby("Compound").count()[["LapNumber"]].reset_index()
fig = plt.figure(figsize=(7,5))
g = sns.barplot(data=lapsgg, x="Compound", y="LapNumber");
g.set_title("Total Compound Representation")








# Graph 3var bar chart
laps = laps_raw[["LapTime", "Stint", "Compound"]]
laps["LapTime"] = convert_days_format_to_datetime(laps["LapTime"])
laps = laps[["LapTime", "Stint", "Compound"]].groupby(["Compound", "Stint"]).mean().reset_index()
laps["LapTime"] = parse_laptime_ymdhms(laps["LapTime"])
# laps


data = []
for i in laps["LapTime"]:
    i = i.split(":")
    data.append( (float(i[0]) * 60) + float(i[1]) )
laps["Sec"] = data
# fig,ax = plt.subplots(figsize=(15,5))
laps = laps[laps["Sec"] < 1100]
# g = sns.barplot(x="Stint", y="Sec", hue="Compound", data=laps)
# plt.ylim(laps["Sec"].min() - 1, laps["Sec"].max() + 1)
# g.set_title("Average Time Spent On Each Stint, Per Compound")
# sns.move_legend(ax, "upper left", bbox_to_anchor=(0.46, 1))
fig, ax = plt.subplots(figsize=(15,5))
so.Plot(x="Stint", y="Sec", color="Compound", data=laps) \
    .add(so.Bar(), so.Dodge(gap=0.2)).label(title="Average Time Spent On Each Stint, Per Compound") \
    .limit(y=(laps["Sec"].min() - 1, laps["Sec"].max() + 1)) \
    .on(ax).plot()
fig.legends[0].set_bbox_to_anchor((0.28,0.7))


laps_raw[laps_raw["Compound"] == "HARD"][laps_raw["Stint"] == 1][["EventName", "Driver", "Stint", "Compound"]].value_counts()











lapsg = laps_raw[laps_raw["Stint"] == 1].merge(results_raw[["EventName", "Abbreviation", "ClassifiedPosition"]], \
                                left_on=["EventName", "Driver"], right_on=["EventName", "Abbreviation"])
lapsg = lapsg[pd.to_numeric(lapsg['ClassifiedPosition'], errors='coerce').notnull()]
lapsg["ClassifiedPosition"] = lapsg["ClassifiedPosition"].astype(int)
lapsg = lapsg[["Compound", "Position", "ClassifiedPosition", "TyreLife"]]
lapsg = lapsg.groupby("Compound").mean()[["Position", "ClassifiedPosition", "TyreLife"]].reset_index()
lapsgg = lapsg.melt(id_vars=["Compound"], value_vars=["ClassifiedPosition", "TyreLife"])
lapsg


"""
Observation:
Position > Class goes UP (lose rank) on HARD
Position > Class goes DOWN (gain rank) on INTERMEDIATE
Position > Class goes UP (lose rank
Stays the same on MED

With MED as a baseline:
Soft gains ~4.375 positions, loses ~2 laps of tyre life
Hard loses ~2.3 positions, gains 6 laps of tyre life
"""


# Stolen from https://stackoverflow.com/questions/36271302/changing-color-scale-in-seaborn-bar-plot
def colors_from_values(values, palette_name):
    # normalize the values to range [0, 1]
    normalized = (values - min(values)) / (max(values) - min(values))
    # convert to indices
    indices = np.round(normalized * (len(values) - 1)).astype(np.int32)
    # use the indices to get the colors
    palette = sns.color_palette(palette_name, len(values))
    return np.array(palette).take(indices, axis=0)

# lapsgg = lapsgg.rename(columns={"value": "ClassifiedPosition"})
g = sns.barplot(data=lapsgg, x="Compound", y="value", hue="variable")#, palette=colors_from_values(lapsgg["value"], "Blues_r"))
g.set_title("Driver Position's Use Of Compound / Tyre Life Tradeoff");











lapsg = laps_raw[["Driver", "Sec", "LapNumber", "Stint"]]
lapsg = lapsg[lapsg["Sec"] < lapsg["Sec"].quantile(0.99)]
lapsg = lapsg.groupby(["Driver", "Stint"]).apply(lambda x: x.iloc[1:-1])
fig = plt.figure(figsize=(12,15))
gs = gridspec.GridSpec(3,1, hspace=0.20)#, right=0.48, wspace=0.05)
ax1 = fig.add_subplot(gs[0,0])
ax2 = fig.add_subplot(gs[1,0])
ax3 = fig.add_subplot(gs[2,0])

ax1.set_title("Lap Time Averages Over Stint 1")
ax2.set_title("Lap Time Averages Over Stint 2")
ax3.set_title("Lap Time Averages Over Stint 3")


sns.lineplot(data=lapsg[lapsg["Stint"] == 1], y="Sec", x="LapNumber", ax=ax1)
sns.lineplot(data=lapsg[lapsg["Stint"] == 2], y="Sec", x="LapNumber", ax=ax2)
sns.lineplot(data=lapsg[lapsg["Stint"] == 3], y="Sec", x="LapNumber", ax=ax3)

sns.regplot(y="Sec", x="LapNumber", data=lapsg[lapsg["Stint"] == 1], ax=ax1, scatter=False, color="Red");
sns.regplot(y="Sec", x="LapNumber", data=lapsg[lapsg["Stint"] == 2], ax=ax2, scatter=False, color="Red");
sns.regplot(y="Sec", x="LapNumber", data=lapsg[lapsg["Stint"] == 3], ax=ax3, scatter=False, color="Red");





lapsg = laps_raw[["Driver", "Sec", "LapNumber", "Stint", "EventName"]]
lapsg = lapsg[lapsg["Sec"] < lapsg["Sec"].quantile(0.99)]
lapsg = lapsg.groupby(["Driver", "Stint"]).apply(lambda x: x.iloc[1:-1])
fig = plt.figure(figsize=(15,5))
gs = gridspec.GridSpec(1,1, hspace=0.20)#, right=0.48, wspace=0.05)
ax1 = fig.add_subplot(gs[0,0])

ax1.set_title("Lap Time Averages Over Stint 1")

sns.lineplot(data=lapsg[lapsg["Stint"] == 1], y="Sec", x="LapNumber", hue="EventName", ax=ax1)
sns.regplot(y="Sec", x="LapNumber", data=lapsg[lapsg["Stint"] == 1], ax=ax1, scatter=False);
sns.move_legend(ax1, "upper left", bbox_to_anchor=(1, 1))











lapsg = laps_raw.merge(results_raw[["EventName", "Abbreviation", "ClassifiedPosition"]], \
                                left_on=["EventName", "Driver"], right_on=["EventName", "Abbreviation"])
lapsg = lapsg[pd.to_numeric(lapsg['ClassifiedPosition'], errors='coerce').notnull()]
lapsg["ClassifiedPosition"] = lapsg["ClassifiedPosition"].astype(int)
lapsg = pd.merge(left=lapsg, right=pit_stops, left_on=["EventName", "Driver"], right_on=["EventName", "Driver"])
lapsg = lapsg[["EventName", "Driver", "Stint", "ClassifiedPosition", "PitStops"]]

fig = plt.figure(figsize=(18,6))
gs = gridspec.GridSpec(1,2)#, right=0.48, wspace=0.05)
ax1 = fig.add_subplot(gs[0,0])
ax2 = fig.add_subplot(gs[0,1])

ax1.set_title("Pit Stops Vs Position")
ax2.set_title("Pit Stops Vs Position")

plt.ylim(bottom=1, top=3.5)
sns.barplot(data=lapsg, x="PitStops", y="ClassifiedPosition", ax=ax1)
sns.barplot(data=lapsg, y="PitStops", x="ClassifiedPosition", ax=ax2)
sns.regplot(y="ClassifiedPosition", x="PitStops", data=lapsg, ax=ax1, scatter=False, color="Red")
sns.regplot(x="ClassifiedPosition", y="PitStops", data=lapsg, ax=ax2, scatter=False, color="Red")
lapsg[["ClassifiedPosition", "PitStops"]].corr()











total_laps = laps_raw[["EventName", "LapNumber"]].groupby(["EventName"]).last().reset_index()
total_laps = total_laps.rename(columns={"LapNumber":"TotalLaps"})
# total_laps


# Yes I'm aware I'm copying code - shut up about it
# This is mostly an internal monologue between me and myself

import scipy

lapsg = laps_raw.merge(results_raw[["EventName", "Abbreviation", "ClassifiedPosition"]], \
                                left_on=["EventName", "Driver"], right_on=["EventName", "Abbreviation"])
lapsg = lapsg.merge(total_laps, on="EventName") 
lapsg = lapsg[pd.to_numeric(lapsg['ClassifiedPosition'], errors='coerce').notnull()]
lapsg["ClassifiedPosition"] = lapsg["ClassifiedPosition"].astype(int)
lapsg = pd.merge(left=lapsg, right=pit_stops, left_on=["EventName", "Driver"], right_on=["EventName", "Driver"])
lapsg = lapsg[["EventName", "Driver", "PitStops", "TotalLaps"]]
# lapsg.drop_duplicates()
lapsg = lapsg[lapsg["TotalLaps"] > lapsg["TotalLaps"].quantile(0.05)]

# Relationship between race length and total pit stops
fig = plt.figure(figsize=(18,6))
gs = gridspec.GridSpec(2,2, hspace=0.25, wspace=0.11)
ax1 = fig.add_subplot(gs[0,0])
ax2 = fig.add_subplot(gs[0,1])
ax3 = fig.add_subplot(gs[1,0])
ax4 = fig.add_subplot(gs[1,1])

ax1.set_title("Race Length vs Pit Stops")
ax2.set_title("Race Length vs Pit Stops")
sns.barplot(data=lapsg, x="PitStops", y="TotalLaps", ax=ax1)
sns.barplot(data=lapsg, y="PitStops", x="TotalLaps", ax=ax2)
g1 = sns.regplot(y="TotalLaps", x="PitStops", data=lapsg, ax=ax3, scatter=False)
g2 = sns.regplot(x="TotalLaps", y="PitStops", data=lapsg, ax=ax4, scatter=False)

slope1, _,_,_,_ = scipy.stats.linregress(x=g1.get_lines()[0].get_xdata(),y=g1.get_lines()[0].get_ydata())
slope2, _,_,_,_ = scipy.stats.linregress(x=g2.get_lines()[0].get_xdata(),y=g2.get_lines()[0].get_ydata())
plt.figtext(0.135,0.4, "Slope: " + str(slope1)[:6],size=20)
plt.figtext(0.56,0.4, "Slope: " + str(slope2)[:6],size=20);
lapsg[["PitStops", "TotalLaps"]].corr()


# How does total lap number affect compound usage?

lapsg = laps_raw.merge(results_raw[["EventName", "Abbreviation", "ClassifiedPosition"]], \
                                left_on=["EventName", "Driver"], right_on=["EventName", "Abbreviation"])
lapsg = lapsg.merge(total_laps, on="EventName") 
lapsg = lapsg[pd.to_numeric(lapsg['ClassifiedPosition'], errors='coerce').notnull()]
lapsg["ClassifiedPosition"] = lapsg["ClassifiedPosition"].astype(int)
lapsg = pd.merge(left=lapsg, right=pit_stops, left_on=["EventName", "Driver"], right_on=["EventName", "Driver"])
lapsg = lapsg[["EventName", "Driver", "PitStops", "TotalLaps", "Compound", "Stint"]]


fig = plt.figure(figsize=(15,4))
gs = gridspec.GridSpec(1,2, wspace=0.20)#, right=0.48, wspace=0.05)
ax1 = fig.add_subplot(gs[0,0])
ax2 = fig.add_subplot(gs[0,1])

sns.set_palette('Paired')

lapsgg = lapsg.drop_duplicates()[["Compound", "TotalLaps", "Stint"]].groupby(["Compound"]).mean().reset_index()
g = sns.barplot(data=lapsgg, x="Compound", y="TotalLaps", ax=ax1)
g.set_title("Compound Usage Based On Total Laps")

lapsgg = lapsg.drop_duplicates()[["Compound", "TotalLaps", "Stint"]].groupby(["Compound", "Stint"]).mean().reset_index()
g = sns.barplot(data=lapsgg, x="Compound", y="TotalLaps", ax=ax2)
g.set_title("Compound Usage Based on Total Laps & Stints")

# lapsg








lapsg = laps_raw.merge(results_raw[["EventName", "Abbreviation", "ClassifiedPosition"]], \
                                left_on=["EventName", "Driver"], right_on=["EventName", "Abbreviation"])
lapsg = lapsg[pd.to_numeric(lapsg['ClassifiedPosition'], errors='coerce').notnull()]
lapsg["ClassifiedPosition"] = lapsg["ClassifiedPosition"].astype(int)
lapsg = pd.merge(left=lapsg, right=pit_stops, left_on=["EventName", "Driver"], right_on=["EventName", "Driver"])
lapsg = lapsg[["EventName", "Driver", "Stint", "ClassifiedPosition", "PitStops", "LapNumber", "Compound"]]
# lapsg.drop_duplicates()
so.Plot(lapsg, x="ClassifiedPosition", color="Compound") \
        .add(so.Bars(), so.Hist(bins=10), so.Stack())








laps_raw["EventName"].unique()


race = "Belgian Grand Prix"
# team_rep = ' -- '.join(laps_raw[laps_raw["EventName"] == race].sort_values("Team")["Team"].unique())
# print(team_rep)
# # Drivers: XYZ 
# driver_rep = ' -- '.join(laps_raw[laps_raw["EventName"] == race].sort_values("Driver")["Driver"].unique())
# print(driver_rep)
laps = laps_raw[laps_raw["EventName"] == race][["Team", "Driver"]].drop_duplicates().sort_values("Team").set_index("Team")
laps.pivot_table(index="Team", values=["Driver"], aggfunc=lambda x: ", ".join(x)).rename(columns={"Driver":""})


# laps_raw[laps_raw["EventName"] == race]["LapNumber"].value_counts()





lapsg = laps_raw[laps_raw["EventName"] == race][["Driver", "Stint", "Sec"]] \
        .groupby(["Driver", "Stint"]).mean().reset_index()

# lapsg = lapsg[lapsg["Stint"] > 1]

fig,ax = plt.subplots(figsize=(15,5))
# gs = gridspec.GridSpec(1,1)
# ax = fig.add_subplot(gs[0,0])
# ax.set_title("Lap Time Averages Over Time")

# sns.lineplot(data=lapsg, x="Stint", y="Sec", ax=ax, palette="gist_ncar")
p = so.Plot(data=lapsg, x="Stint", y="Sec") \
    .add(so.Line(), so.Agg()) \
    .add(so.Band(), so.Est()) \
    .on(ax).label(title="Lap Time Averages Over Each Stint").show()








# laps_raw.groupby(["EventName", "Driver"]).last()


# Lap Time, Total
laps = laps_raw[laps_raw["EventName"] == race]
laps_time= laps[["EventName", "LapNumber", "Sec"]].groupby("EventName").sum()
laps_time["LapTime"] = datetime.timedelta(seconds=laps_time["Sec"].iloc[0]) 
laps_time = laps_time[["LapTime"]]

laps = laps_raw[laps_raw["EventName"] == race]
laps = laps[["EventName", "LapNumber", "Sec", "Driver"]]

d_total = {
    "Pit Stops":[pit_stops[pit_stops["EventName"] == race][["PitStops"]].sum().iloc[0]],
    "Pit Time":[str(pit_times[pit_times["EventName"] == race]["PitTime"].sum())[:6]],
    "Laps Completed":[laps.groupby(["EventName", "Driver"]).last().reset_index()[["EventName", "Driver", "LapNumber"]]["LapNumber"].sum()],
    "Lap Time":[str(laps_time.to_string(header=False, index=False)).split(".")[0]],
    "Race Laps": [laps_raw[laps_raw["EventName"] == race][["Driver", "LapNumber"]].groupby(["Driver"]).last()["LapNumber"].iloc[0]],
    "Compounds": [laps_raw[laps_raw["EventName"] == race]["Compound"].unique()]
}
df_total = pd.DataFrame(d_total).T
df_total.columns = [""]
df_total








# Lap time per stint
laps = laps_raw[["EventName", "LapTime", "Stint", "Sec"]][laps_raw["EventName"] == race]
laps = laps.groupby(["EventName", "Stint"]).sum().reset_index()[["Stint", "Sec"]]
tot_sec = laps["Sec"].sum()
laps["Pct"] = (laps["Sec"] / tot_sec * 100).astype(str).str[:5] + "%"
for idx, item in enumerate(laps["Sec"]):
    laps["Sec"].iloc[idx] = str(datetime.timedelta(seconds=item))[:-3]
    laps["Sec"].iloc[idx] = laps["Sec"].iloc[idx].zfill(12)
#print("Time Per Stint:\n", laps.to_string(index=False, header=False))
laps = laps[laps["Stint"] > 1]

fig, ax = plt.subplots(figsize=(6,5))
laps["Pct"] = laps["Pct"].str[:-1].astype(float)
so.Plot(data=laps, x="Stint", y="Pct", color="Stint") \
    .add(so.Bars(), legend=False).label(title="Percent of Time Spent on Each Stint") \
    .on(ax).show()
    # .add(so.Band(), so.Est()) \



laps





# Total Lap Times of Stints, Per Compound
laps = laps_raw[laps_raw["EventName"] == race]
laps = laps.groupby(["Stint", "Compound"])[["Time", "Sec"]].sum().reset_index()
for idx, item in enumerate(laps["Sec"]):
    laps["Sec"].iloc[idx] = str(datetime.timedelta(seconds=item))[:-3].zfill(12)
# print("Time Per Stint, Per Compound:\n", laps.to_string(index=False, header=False))
laps


data = []
for i in laps["Sec"]:
    i = i.split(":")
    data.append( (float(i[0]) * 60) + float(i[1]) )
laps["Min"] = data
laps["Hr"] = [x / 60 for x in data]
# fig = plt.figure(figsize=(10,5))
# gs = gridspec.GridSpec(1,1)
# ax = fig.add_subplot(gs[0,0])
laps = laps[laps["Stint"] > 1]

# g = sns.barplot(x="Stint", y="Hr", hue="Compound", data=laps)
# # plt.ylim(laps["Min"].min() - 1, laps["Min"].max() + 1)
# g.set_title("Total Time Spent On Each Stint, Per Compound")
fig, ax = plt.subplots(figsize=(6,5))
so.Plot(data=laps, x="Stint", y="Hr", color="Compound") \
    .add(so.Bars(), so.Stack()).label(title="Total Time Spent On Each Stint, Per Compound") \
    .on(ax).plot()
fig.legends[0].set_bbox_to_anchor((0.65,0.7))





# Compound Usage, Total
lapsg = laps_raw[laps_raw["EventName"] == race].groupby(["EventName", "Compound"]).count().reset_index()[["Compound", "LapNumber"]]
# print("Compound Usage:\n", lapsg.to_string(header=False, index=False))
lapsg


# g = sns.barplot(data=lapsg, x="Compound", y="LapNumber")
# g.set_title("Total Laps on Each Compound")
# fig, ax = plt.subplots(figsize=(4,4))
# so.Plot(data=lapsg, x="Compound", y="LapNumber", color="LapNumber") \
#     .add(so.Bars(), legend=False).label(title="Total Laps on Each Compound") \
#     .on(ax).scale(color="flare").show()








# Lap Time, Average
laps = laps_raw[laps_raw["EventName"] == race]
laps_time = laps[["EventName", "LapNumber", "Sec"]].groupby("EventName").mean()
laps_time["LapTime"] = datetime.timedelta(seconds=laps_time["Sec"].iloc[0])
# laps["LapTime"] = convert_days_format_to_datetime(laps["LapTime"])
laps_time = laps_time[["LapTime"]]

d_avg = {
    "Pit Stops":[pit_stops[pit_stops["EventName"] == race][["PitStops"]].mean().iloc[0]],
    "Pit Time":[str(pit_times[pit_times["EventName"] == race]["PitTime"].mean())[:6]],
    "Laps Completed":[laps.groupby(["EventName", "Driver"]).last().reset_index()["LapNumber"].mean()],
    "Lap Time":[laps_time.to_string(header=False, index=False)[7:]],
}
df_avg = pd.DataFrame(d_avg).T
df_avg.columns = [""]
df_avg


# # AVERAGES
# print("\n================\n\nPit Stops:", )
# print("Pit Time:", )
# print("Laps Completed:", )

# # Average Lap Time
# laps = laps_raw[["EventName", "LapTimeDt"]].groupby(["EventName"]).mean().reset_index().sort_values("EventName")
# laps = laps[laps["EventName"] == race]
# laps["LapTime"] = parse_laptime_ymdhms(laps["LapTimeDt"])
# laps = laps.drop(columns=["LapTimeDt", "EventName"])
# print("Lap Time:", laps.to_string(index=False, header=False))






# Graph
laps = laps_raw[["EventName", "LapTime", "Stint", "Sec"]][laps_raw["EventName"] == race]
laps = laps[["EventName", "Stint", "Sec"]].groupby(["EventName", "Stint"]).mean().reset_index()
for idx, item in enumerate(laps["Sec"]):
    laps["Sec"].iloc[idx] = str(datetime.timedelta(seconds=item))[:-3]
    laps["Sec"].iloc[idx] = laps["Sec"].iloc[idx].zfill(12)

# laps = laps[laps["Stint"] > 1]

data = []
for i in laps["Sec"]:
    i = i.split(":")
    data.append( (int(i[1]) * 60) + float(i[2]) )
laps["Sec"] = data
# g = sns.barplot(data=laps, x="Stint", y="Sec")
# g.set_title("Average Time Spent On Each Stint")
# plt.ylim(laps["Sec"].min() - 1, laps["Sec"].max() + 1)

fig, ax = plt.subplots(figsize=(4,4))
so.Plot(data=laps, x="Stint", y="Sec", color="Sec") \
    .add(so.Bars(), legend=False).label(title="Average Lap Time on Each Stint") \
    .on(ax).scale(color="flare").limit(y=(laps["Sec"].min() - 1, laps["Sec"].max() + 1)).plot()

laps





# Graph 3var bar chart
laps = laps_raw[laps_raw["EventName"] == race]
laps["LapTime"] = convert_days_format_to_datetime(laps["LapTime"])
laps = laps[["LapTime", "Stint", "Compound"]].groupby(["Compound", "Stint"]).mean().reset_index()
laps["LapTime"] = parse_laptime_ymdhms(laps["LapTime"])

# laps = laps[laps["Stint"] > 1]

data = []
for i in laps["LapTime"]:
    i = i.split(":")
    data.append( (float(i[0]) * 60) + float(i[1]) )
laps["Sec"] = data
# g = sns.barplot(x="Stint", y="Sec", hue="Compound", data=laps)
# plt.ylim(laps["Sec"].min() - 1, laps["Sec"].max() + 1)
# g.set_title("Average Time Spent On Each Stint, Per Compound")

fig, ax = plt.subplots(figsize=(4,4))
# so.Plot(x="Stint", y="Sec", color="Compound", data=laps) \
#     .add(so.Bar(), so.Dodge(gap=0.1)).label(title="Average Time Spent On Each Stint, Per Compound") \
#     .limit(y=(laps["Sec"].min() - 1, laps["Sec"].max() + 1)) \
#     .on(ax).scale(color="flare").plot()

so.Plot(data=laps, x="Stint", y="Sec", color="Compound") \
    .add(so.Bar(), so.Dodge()).label(title="Average Time Spent On Each Stint, Per Compound") \
    .limit(y=(laps["Sec"].min() - 1, laps["Sec"].max() + 1)) \
    .on(ax).plot()
fig.legends[0].set_bbox_to_anchor((0.8,0.7))

laps





lapsg = laps_raw[laps_raw["EventName"] == race][["Driver", "Compound", "LapNumber"]].groupby(["Driver", "Compound"]) \
        .count().reset_index()[["Compound", "LapNumber"]].groupby("Compound").mean().reset_index()
lapsg


# g = sns.barplot(data=lapsg, x="Compound", y="LapNumber")
# g.set_title("Average Lap Count on Each Compound")
# so.Plot(data=lapsg, x="Compound", y="LapNumber", color="LapNumber") \
#     .add(so.Bar(), legend=False) \
#     .label(title="Average Lap Count on Each Compound")








# pit_stops[pit_stops["EventName"] == "Saudi Arabian Grand Prix"]["Driver"].value_counts()

# # 


# laps_raw[laps_raw["EventName"] == "Saudi Arabian Grand Prix"]["Driver"].value_counts()
# laps_raw[laps_raw["Driver"] == "PIA"][laps_raw["EventName"] == "Saudi Arabian Grand Prix"][["EventName", "Driver", "Stint"]]


# pits[pits["Driver"] == "VER"][pits["EventName"] == "Japanese Grand Prix"]


# pits[pits["Driver"] == "NOR"]
# pits[pits["Driver"] == "LEC"][pits["EventName"] == "Chinese Grand Prix"]


# aa = pd.merge(laps_raw, results_raw, left_on=["EventName", "Driver"], right_on=["EventName", "Abbreviation"]) \
#     [["EventName", "Time_x", "Driver", "LapTime", "LapNumber", "Stint", "PitOutTime", "PitInTime", "ClassifiedPosition", "Team"]]
# pit_times[pit_times["Driver"] == "LEC"][pit_times["EventName"] == "Miami Grand Prix"]


# pit_times[pit_times["EventName"] == "Saudi Arabian Grand Prix"]


drivers_summary = pd.DataFrame()

laps = laps_raw[laps_raw["EventName"] == race]
for driver in laps["Driver"].unique():
    print(driver, end=" ")
    laps_c = laps[laps["Driver"] == driver]
    pit_stops_c = pit_stops[['EventName', 'Driver', 'PitStops']]
    pit_times_c = pit_times[['EventName', 'Driver', 'PitInTime', 'PitOutTime', 'ClassifiedPosition','PitTime']]
    
    pit_stops_c = pit_stops_c[(pit_stops_c["Driver"] == driver) & (pit_stops_c["EventName"] == race)]
    pit_times_c = pit_times_c[pit_times_c["Driver"] == driver]
    pit_times_c = pit_times_c[pit_times_c["EventName"] == race]
    
    # print(driver, pit_times_c, pit_times_c.shape)
    
    # Total LaGAS Empty DataFramep Time
    lapsg = laps_c[["EventName", "Sec"]].groupby("EventName").sum()
    lapsg["LapTime"] = datetime.timedelta(seconds=lapsg["Sec"].iloc[0]) 
    lapsg = lapsg[["LapTime"]]
    
    # Avg Lap Time
    try:
        lapsgg = laps_c[["EventName", "Sec"]].groupby("EventName").mean()
        lapsgg["LapTime"] = datetime.timedelta(seconds=lapsgg["Sec"].iloc[0]) 
        lapsgg = lapsgg[["LapTime"]]
    except:
        lapsgg["LapTime"] = 99

    position = 99
    pt = 99
    try:
        position = int(pit_times_c["ClassifiedPosition"].iloc[0])
    except Exception as e:
        print(e)
        position = 99
        # break
    # if driver == "LEC": break
    try:
        pt = pit_times_c["PitTime"].sum()
        # if driver == "NOR": break
    except:
        pt = 999
    
    d_driver = {
        "Driver": driver,
        "Pit Stops":[pit_stops_c[["PitStops"]].sum().iloc[0]],
        "Pit Time":[pt],
        "Laps Driven":[laps_c.groupby(["EventName", "Driver"]).last().reset_index()["LapNumber"].sum()],
        "Total Time":[lapsg.to_string(header=False, index=False)[7:-3]],
        "Avg Time":[lapsgg.to_string(header=False, index=False)[7:-3]],
        "Pos": [position],
    }
    df_driver = pd.DataFrame(d_driver).T
    df_driver.columns = [""]
    drivers_summary = pd.concat([drivers_summary, df_driver.T], axis=0)
drivers_summary.sort_values("Pos")
    


# results_raw





# driver_compound.head()


# driver_compound.merge(pit_times[pit_times["EventName"] == race], left_on = ["variable"], right_on=["Driver"]) \
#     [["index", "variable", "value", "ClassifiedPosition"]].sort_values(["ClassifiedPosition", "index"]).drop_duplicates().head(40)


laps = laps_raw[laps_raw["EventName"] == race]
compounds = laps["Compound"].unique()
driver_compound = pd.DataFrame(columns=compounds)

fig = plt.figure(figsize=(5,8))
gs = gridspec.GridSpec(2,1, hspace=0.3)
ax1 = fig.add_subplot(gs[0,0])
ax2 = fig.add_subplot(gs[1,0])

# fig = plt.figure(figsize=(15,5))
# gs = gridspec.GridSpec(1,2, wspace=0.3)
# ax1 = fig.add_subplot(gs[0,0])
# ax2 = fig.add_subplot(gs[0,1])

for driver in laps["Driver"].unique():
    laps_c = laps[laps["Driver"] == driver]
    
    individual_compound_use = laps_c.groupby(["Driver", "Compound"]).count()[["LapNumber"]].reset_index() \
            [["Compound", "LapNumber"]].set_index("Compound").rename(columns={"LapNumber":driver}).T
    driver_compound = pd.concat([driver_compound, individual_compound_use], axis=0)

driver_compound = driver_compound.T.reset_index().melt(id_vars=["index"])

p1 = so.Plot(y="variable", x="value", color="index", data=driver_compound.merge(pit_times[pit_times["EventName"] == race], left_on = ["variable"], right_on=["Driver"])[["index", "variable", "value", "ClassifiedPosition"]].sort_values(["index", "value"]).drop_duplicates()) \
    .add(so.Bar(), so.Stack(), legend=True) \
    .label(title="Average Laps in Each Stint, Per Compound (Sorted by Compound)") \
    .on(ax2) \
    .scale(color="flare").plot()

p2 = so.Plot(y="variable", x="value", color="index", data=driver_compound.merge(pit_times[pit_times["EventName"] == race], left_on = ["variable"], right_on=["Driver"])[["index", "variable", "value", "ClassifiedPosition"]].sort_values(["ClassifiedPosition", "index"]).drop_duplicates()) \
    .add(so.Bar(), so.Stack(), legend=False) \
    .label(title="Average Laps in Each Stint, Per Compound (Sorted by Position)") \
    .on(ax1) \
    .scale(color="flare").plot()
######

# team_compound = pd.DataFrame(columns=compounds)

# for team in laps["Team"].unique():
#     laps_c = laps[laps["Team"] == team]
#     individual_compound_use = laps_c.groupby(["Team", "Compound"]).count()[["LapNumber"]].reset_index() \
#             [["Compound", "LapNumber"]].set_index("Compound").rename(columns={"LapNumber":team}).T
    
#     team_compound = pd.concat([team_compound, individual_compound_use], axis=0)
    
# team_compound = team_compound.T.reset_index().melt(id_vars=["index"])
# p2 = so.Plot(y="variable", x="value", color="index", data=team_compound.sort_values(["index", "value"])) \
#     .add(so.Bars(), so.Stack()) \
#     .label(title="Average Laps in Each Stint, Per Compound") \
#     .on(ax1) \
#     .layout(engine="tight") \
#     .scale(color="flare").show()

fig.legends[0].set_bbox_to_anchor((0.9,0.7))
# fig.legends[0].set_bbox_to_anchor((0.36,0.7))




# team_compound.head().merge(results_raw[results_raw["EventName"] == race], left_on = ["variable"], right_on=["TeamName"])[["index", "variable", "value", "ClassifiedPosition"]]





# drivers_summary.rename(columns={"Position":"Pos", "Laps Completed":"Laps Driven"})








# pit_times_c


teams_summary = pd.DataFrame()

laps = laps_raw[laps_raw["EventName"] == race]
for team in laps["Team"].unique():
    laps_c = laps[laps["Team"] == team]
    # laps_c = laps_c[laps_c["Stint"] == 2]
    
    pit_stops_c = pit_stops.copy()
    # Get team info on pit_stops
    pit_stops_c = pd.merge(left=pit_stops_c, right=laps_raw, left_on=["EventName", "Driver"], right_on=["EventName", "Driver"]) \
        [["EventName", "Driver", "Team", "PitStops"]].drop_duplicates()
    
    pit_times_c = pit_times.copy()
    # Get team info on pit_times
    pit_times_c = pd.merge(left=pit_times_c, right=laps_raw, left_on=["EventName", "Driver"], right_on=["EventName", "Driver"]) \
        [["EventName", "Driver", "Team", "PitTime"]].drop_duplicates()
    
    pit_stops_c = pit_stops_c[(pit_stops_c["Team"] == team) & (pit_stops_c["EventName"] == race)]
    pit_times_c = pit_times_c[(pit_times_c["Team"] == team) & (pit_times_c["EventName"] == race)]

    # Total Lap Time
    lapsg = laps_c[["EventName", "Sec"]].groupby("EventName").sum()
    try:
        lapsg["LapTime"] = datetime.timedelta(seconds=lapsg["Sec"].iloc[0]) 
    except:
        lapsg["LapTime"] = 9999
    lapsg = lapsg[["LapTime"]]
    
    # Avg Lap Time
    lapsgg = laps_c[["EventName", "Sec"]].groupby("EventName").mean()
    try:
        lapsgg["LapTime"] = datetime.timedelta(seconds=lapsgg["Sec"].iloc[0]) 
    except:
        lapsgg["LapTime"] = 99999
    lapsgg = lapsgg[["LapTime"]]
    
    d_team = {
        "Team": team,
        "Drivers": [len(laps_c["Driver"].unique())],
        "Pit Stops":[pit_stops_c[["PitStops"]].sum().iloc[0]],
        "Pit Time":[pit_times_c["PitTime"].sum()],
        "Laps Driven":[laps_c.groupby(["EventName", "Team"]).last().reset_index()["LapNumber"].sum()],
        "Total Time":[lapsg.to_string(header=False, index=False)[7:-3]],
        "Avg Time":[lapsgg.to_string(header=False, index=False)[7:-3]],
    }
    df_team = pd.DataFrame(d_team).T
    df_team.columns = [""]
    teams_summary = pd.concat([teams_summary, df_team.T], axis=0)
# teams_summary["Pit Time"] = convert_days_format_to_datetime(teams_summary["Pit Time"].astype(str), False)
# teams_summary["Pit Time"] = teams_summary["Pit Time"].str[:-3]
teams_summary.sort_values("Total Time")
# teams_summary





# laps = laps_raw[laps_raw["EventName"] == race]
# compounds = laps["Compound"].unique()

# team_compound = pd.DataFrame(columns=compounds)

# for team in laps["Team"].unique():
#     laps_c = laps[laps["Team"] == team]
    
#     individual_compound_use = laps_c.groupby(["Team", "Compound"]).count()[["LapNumber"]].reset_index() \
#             [["Compound", "LapNumber"]].set_index("Compound").rename(columns={"LapNumber":team}).T
    
#     team_compound = pd.concat([team_compound, individual_compound_use], axis=0)
#     # 	Driver 	Compound 	LapNumber
#     # 0 	HAM 	HARD 	33.000
#     # 1 	HAM 	MEDIUM 	11.000
    
# team_compound = team_compound.T.reset_index().melt(id_vars=["index"])
# fig, ax = plt.subplots(figsize=(6,3))
# p = so.Plot(y="variable", x="value", color="index", data=team_compound.sort_values(["index", "value"])) \
#     .add(so.Bars(), so.Stack()) \
#     .label(title="Average Time Spent On Each Stint, Per Compound") \
#     .on(ax) \
#     .scale(color="flare").plot()

# # p._figure.axes[0].xaxis.set_tick_params(rotation=90)
# # ax.margins(x=0.1)
# fig.legends[0].set_bbox_to_anchor((1,0.4))
# # team_compound


# team_compound.sort_values("MEDIUM").plot(kind='bar', stacked=True, color=['red', 'pink', 'blue'])

# team_compound = team_compound.T.reset_index().melt(id_vars=["index"])
# fig, ax = plt.subplots(figsize=(6,6))
# p = so.Plot(y="variable", x="value", color="index", data=driver_compound.sort_values(["index", "value"])) \
#     .add(so.Bars(), so.Stack()) \
#     .label(title="Average Time Spent On Each Stint, Per Compound") \
#     .on(ax) \
#     .scale(color="flare").plot()

# # p._figure.axes[0].xaxis.set_tick_params(rotation=90)
# ax.margins(x=0.1)
# fig.legends[0].set_bbox_to_anchor((0.68,0.4))
# team_compound


fig = plt.figure(figsize=(15,5))
gs = gridspec.GridSpec(1,2)
ax1 = fig.add_subplot(gs[0,0])
ax2 = fig.add_subplot(gs[0,1])
team_compound = pd.DataFrame(columns=compounds)

for team in laps["Team"].unique():
    laps_c = laps[laps["Team"] == team]
    individual_compound_use = laps_c.groupby(["Team", "Compound"]).count()[["LapNumber"]].reset_index() \
            [["Compound", "LapNumber"]].set_index("Compound").rename(columns={"LapNumber":team}).T
    
    team_compound = pd.concat([team_compound, individual_compound_use], axis=0)
    
team_compound = team_compound.T.reset_index().melt(id_vars=["index"])

p2 = so.Plot(y="variable", x="value", color="index", data=team_compound.merge(results_raw[results_raw["EventName"] == race], left_on = ["variable"], right_on=["TeamName"])[["index", "variable", "value", "ClassifiedPosition"]].sort_values(["index", "ClassifiedPosition"])) \
    .add(so.Bar(), so.Stack()) \
    .label(title="Average Laps in Each Stint, Per Compound (Sorted by Place)") \
    .on(ax1) \
    .layout(engine="tight") \
    .scale(color="flare").plot()
p1 = so.Plot(y="variable", x="value", color="index", data=team_compound.merge(results_raw[results_raw["EventName"] == race], left_on = ["variable"], right_on=["TeamName"])[["index", "variable", "value", "ClassifiedPosition"]].sort_values(["index", "value"])) \
    .add(so.Bar(), so.Stack()) \
    .label(title="Average Laps in Each Stint, Per Compound (Sorted by Compound)") \
    .on(ax2) \
    .layout(engine="tight") \
    .scale(color="flare").plot()





# teams_summary




















lapsg = laps[laps["Stint"] == 1].merge(results_raw[["EventName", "Abbreviation", "ClassifiedPosition"]], \
                                left_on=["EventName", "Driver"], right_on=["EventName", "Abbreviation"])
lapsg = lapsg[pd.to_numeric(lapsg['ClassifiedPosition'], errors='coerce').notnull()]
lapsg["ClassifiedPosition"] = lapsg["ClassifiedPosition"].astype(int)
lapsg = lapsg[["Position", "ClassifiedPosition", "TyreLife", "Compound"]].groupby("Compound").mean().reset_index()
lapsgg = lapsg.melt(id_vars=["Compound"], value_vars=["ClassifiedPosition", "TyreLife"])
lapsg


"""
Observation:
Position > Class goes UP (lose rank, higher tyre life) on HARD
Position > Class goes DOWN (gain rank, lower life) on SOFT
Stays the same on MED

With MED as a baseline:
Soft gains ~4.375 positions, loses ~2 laps of tyre life
Hard loses ~2.3 positions, gains 6 laps of tyre life
"""


# Stolen from https://stackoverflow.com/questions/36271302/changing-color-scale-in-seaborn-bar-plot
def colors_from_values(values, palette_name):
    # normalize the values to range [0, 1]
    normalized = (values - min(values)) / (max(values) - min(values))
    # convert to indices
    indices = np.round(normalized * (len(values) - 1)).astype(np.int32)
    # use the indices to get the colors
    palette = sns.color_palette(palette_name, len(values))
    return np.array(palette).take(indices, axis=0)


g = sns.barplot(data=lapsgg, x="Compound", y="value", hue="variable")#, palette=colors_from_values(lapsgg["value"], "Blues_r"))
g.set_title("Position Use Of Compound / Tyre Life Tradeoff");








lapsg.columns


# laps["Driver"].value_counts()


laps = laps_raw[laps_raw["EventName"] == race]
# laps = laps[laps["Driver"].value_counts().iloc[0] > 3]
# laps = laps.groupby("Driver").filter(lambda x: len(x) > 1)

def n_2(x):
    try:
        return x.iloc[2]
    except:
        return 9999

def n_m2(x):
    try:
        return x.iloc[-2]
    except:
        return 9999

lapsg = laps[["Driver", "Sec", "Compound", "LapNumber"]] \
            .groupby(["Compound", "Driver"]).agg([n_2, n_m2])
lapsg.columns = ["_".join(x) for x in lapsg.columns.ravel()] #lapsg.columns.droplevel(1)
lapsg = lapsg.drop(columns=["LapNumber_n_2"]).rename(columns={"LapNumber_n_m2":"LapNumber"})
lapsg["LapNumber"] += 1
lapsg["SecDelta"] = lapsg["Sec_n_2"] - lapsg["Sec_n_m2"]
lapsg = lapsg.sort_values("SecDelta").reset_index()
lapsg = lapsg[["Compound", "Driver", "SecDelta", "LapNumber"]].sort_values(["Compound", "SecDelta"])
lapsg["CD"] = lapsg["Compound"] + "_" + lapsg["Driver"]

# lapsg = lapsg[lapsg["SecDelta"] > lapsg["SecDelta"].quantile(0.05)]
# lapsg = lapsg[lapsg["SecDelta"] < lapsg["SecDelta"].quantile(0.95)]

fig = plt.figure(figsize=(10,10))
gs = gridspec.GridSpec(1,2,wspace=0.5)
ax1 = fig.add_subplot(gs[0,0])
ax2 = fig.add_subplot(gs[0,1])

# g = sns.barplot(data=lapsg, y="CD", x="SecDelta")
lapsg = lapsg[lapsg["SecDelta"] > lapsg["SecDelta"].quantile(0.1)]
lapsg = lapsg[lapsg["SecDelta"] < lapsg["SecDelta"].quantile(0.95)]
p = so.Plot(data=lapsg, x="SecDelta", y="CD", color="SecDelta") \
        .add(so.Bars(), legend=False) \
        .label(title="(First Lap - Last Lap) Delta Time") \
        .on(ax1).plot()

p = so.Plot(data=lapsg.sort_values("SecDelta"), x="SecDelta", y="CD", color="SecDelta") \
        .add(so.Bars(), legend=False) \
        .label(title="(First Lap - Last Lap) Delta Time") \
        .on(ax2).plot()

# lapsg





# lapsg.drop(columns=["Stint", "Driver"]).reset_index()["Stint"].value_counts()


lapsg = laps[["Driver", "Sec", "LapNumber", "Stint"]]
lapsg = lapsg[lapsg["Sec"] < lapsg["Sec"].quantile(0.99)]
lapsg = lapsg.groupby(["Driver", "Stint"]).apply(lambda x: x.iloc[1:-1])
fig = plt.figure(figsize=(10,12))
gs = gridspec.GridSpec(3,1, hspace=0.30)#, right=0.48, wspace=0.05)
ax1 = fig.add_subplot(gs[0,0])
ax2 = fig.add_subplot(gs[1,0])
ax3 = fig.add_subplot(gs[2,0])

ax1.set_title("Lap Time Averages Over Stint 1")
ax2.set_title("Lap Time Averages Over Stint 2")
ax3.set_title("Lap Time Averages Over Stint 3")


sns.lineplot(data=lapsg[lapsg["Stint"] == 1], y="Sec", x="LapNumber", hue="Driver", ax=ax1)
sns.lineplot(data=lapsg[lapsg["Stint"] == 2], y="Sec", x="LapNumber", hue="Driver", ax=ax2)
sns.lineplot(data=lapsg[lapsg["Stint"] == 3], y="Sec", x="LapNumber", hue="Driver", ax=ax3)

ax1.legend_.remove()
ax3.legend_.remove()

sns.regplot(y="Sec", x="LapNumber", data=lapsg[lapsg["Stint"] == 1], ax=ax1, color="Red", scatter=False);
sns.regplot(y="Sec", x="LapNumber", data=lapsg[lapsg["Stint"] == 2], ax=ax2, color="Red", scatter=False);
sns.regplot(y="Sec", x="LapNumber", data=lapsg[lapsg["Stint"] == 3], ax=ax3, color="Red", scatter=False);

# Need: For every stint group, kill the last lap
# sns.move_legend(ax2, "upper left", bbox_to_anchor=(1, 0.7))
sns.move_legend(ax2, "upper left", bbox_to_anchor=(1, 1))








lapsg = laps.merge(results_raw[["EventName", "Abbreviation", "ClassifiedPosition"]], \
                                left_on=["EventName", "Driver"], right_on=["EventName", "Abbreviation"])
lapsg = lapsg[pd.to_numeric(lapsg['ClassifiedPosition'], errors='coerce').notnull()]
lapsg["ClassifiedPosition"] = lapsg["ClassifiedPosition"].astype(int)
lapsg = pd.merge(left=lapsg, right=pit_stops, left_on=["EventName", "Driver"], right_on=["EventName", "Driver"])
lapsg = lapsg[["EventName", "Driver", "Stint", "ClassifiedPosition", "PitStops"]]

fig = plt.figure(figsize=(16,6))
gs = gridspec.GridSpec(1,2)#, right=0.48, wspace=0.05)
ax1 = fig.add_subplot(gs[0,0])
ax2 = fig.add_subplot(gs[0,1])

ax1.set_title("Pit Stops Vs Position")
ax2.set_title("Pit Stops Vs Position")

# plt.ylim(bottom=0, top=3.5)
# sns.barplot(data=lapsg, x="PitStops", y="ClassifiedPosition", ax=ax1)
p1 = so.Plot(data=lapsg, x="PitStops", y="ClassifiedPosition", color="PitStops") \
        .add(so.Bar(),legend=False) \
        .scale(color="flare") \
        .label(title="Pit Stops Vs Position") \
        .on(ax1).plot()
p2 = so.Plot(data=lapsg, x="ClassifiedPosition", y="PitStops", color="ClassifiedPosition") \
        .add(so.Bar(), legend=False) \
        .scale(color="flare") \
        .label(title="Pit Stops Vs Position") \
        .on(ax2).plot()

# sns.barplot(data=lapsg, y="PitStops", x="ClassifiedPosition", ax=ax2)
# sns.regplot(y="ClassifiedPosition", x="PitStops", data=lapsg, ax=ax1, scatter=False)
# sns.regplot(x="ClassifiedPosition", y="PitStops", data=lapsg, ax=ax2, scatter=False)
lapsg[["ClassifiedPosition", "PitStops"]].corr()











# total_laps = laps_raw[["EventName", "LapNumber"]].groupby(["EventName"]).last().reset_index()
# total_laps = total_laps.rename(columns={"LapNumber":"TotalLaps"})
# # total_laps


# # Yes I'm aware I'm copying code - shut up about it
# # This is mostly an internal monologue between me and myself

# import scipy

# lapsg = laps.merge(results_raw[["EventName", "Abbreviation", "ClassifiedPosition"]], \
#                                 left_on=["EventName", "Driver"], right_on=["EventName", "Abbreviation"])
# lapsg = lapsg.merge(total_laps, on="EventName") 
# lapsg = lapsg[pd.to_numeric(lapsg['ClassifiedPosition'], errors='coerce').notnull()]
# lapsg["ClassifiedPosition"] = lapsg["ClassifiedPosition"].astype(int)
# lapsg = pd.merge(left=lapsg, right=pit_stops, left_on=["EventName", "Driver"], right_on=["EventName", "Driver"])
# lapsg = lapsg[["EventName", "Driver", "PitStops", "TotalLaps"]]
# # lapsg.drop_duplicates()
# # lapsg = lapsg[lapsg["TotalLaps"] > lapsg["TotalLaps"].quantile(0.10)]
# lapsg
# # # Relationship between race length and total pit stops
# fig = plt.figure(figsize=(18,6))
# gs = gridspec.GridSpec(2,2, hspace=0.25, wspace=0.11)
# ax1 = fig.add_subplot(gs[0,0])
# ax2 = fig.add_subplot(gs[0,1])
# ax3 = fig.add_subplot(gs[1,0])
# ax4 = fig.add_subplot(gs[1,1])
# lapsg
# ax1.set_title("Race Length vs Pit Stops")
# ax2.set_title("Race Length vs Pit Stops")
# sns.barplot(data=lapsg, x="PitStops", y="TotalLaps", ax=ax1)
# sns.barplot(data=lapsg, y="PitStops", x="TotalLaps", ax=ax2)
# g1 = sns.regplot(y="TotalLaps", x="PitStops", data=lapsg, ax=ax3, scatter=False)
# g2 = sns.regplot(x="TotalLaps", y="PitStops", data=lapsg, ax=ax4, scatter=False)

# slope1, _,_,_,_ = scipy.stats.linregress(x=g1.get_lines()[0].get_xdata(),y=g1.get_lines()[0].get_ydata())
# slope2, _,_,_,_ = scipy.stats.linregress(x=g2.get_lines()[0].get_xdata(),y=g2.get_lines()[0].get_ydata())
# plt.figtext(0.135,0.4, "Slope: " + str(slope1)[:6],size=20)
# plt.figtext(0.56,0.4, "Slope: " + str(slope2)[:6],size=20);
# lapsg.corr()


# # How does total lap number affect compound usage?

# lapsg = laps.merge(results_raw[["EventName", "Abbreviation", "ClassifiedPosition"]], \
#                                 left_on=["EventName", "Driver"], right_on=["EventName", "Abbreviation"])
# lapsg = lapsg.merge(total_laps, on="EventName") 
# lapsg = lapsg[pd.to_numeric(lapsg['ClassifiedPosition'], errors='coerce').notnull()]
# lapsg["ClassifiedPosition"] = lapsg["ClassifiedPosition"].astype(int)
# lapsg = pd.merge(left=lapsg, right=pit_stops, left_on=["EventName", "Driver"], right_on=["EventName", "Driver"])
# lapsg = lapsg[["EventName", "Driver", "PitStops", "TotalLaps", "Compound", "Stint"]]
# lapsg = lapsg.drop_duplicates().groupby(["Compound", "Stint"]).median().reset_index()
# sns.barplot(data=lapsg, x="Compound", y="TotalLaps")
# lapsg








lapsg = laps.merge(results_raw[["EventName", "Abbreviation", "ClassifiedPosition"]], \
                                left_on=["EventName", "Driver"], right_on=["EventName", "Abbreviation"])
lapsg = lapsg[pd.to_numeric(lapsg['ClassifiedPosition'], errors='coerce').notnull()]
lapsg["ClassifiedPosition"] = lapsg["ClassifiedPosition"].astype(int)
lapsg = pd.merge(left=lapsg, right=pit_stops, left_on=["EventName", "Driver"], right_on=["EventName", "Driver"])
lapsg = lapsg[["EventName", "Driver", "Stint", "ClassifiedPosition", "PitStops", "LapNumber", "Compound"]]
# lapsg.drop_duplicates()
so.Plot(lapsg, x="ClassifiedPosition", y="LapNumber", color="Compound") \
        .add(so.Bars(), so.Hist(bins=20), so.Stack()) \
        .scale(color="CMRmap") \
        .label(title="Compound Usage By Final Position")
# lapsg






